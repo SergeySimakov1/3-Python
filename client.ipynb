{
 "cells": [
  {
   "cell_type": "markdown",
   "id": "e0d30ef8",
   "metadata": {},
   "source": [
    "Строим запрос к нашему сервису"
   ]
  },
  {
   "cell_type": "code",
   "execution_count": 1,
   "id": "c4e5f0a2",
   "metadata": {},
   "outputs": [],
   "source": [
    "import pandas as pd\n",
    "from sklearn.metrics import roc_auc_score, roc_curve, precision_recall_curve\n",
    "from sklearn.metrics import f1_score\n",
    "from urllib import request, parse\n",
    "import requests\n",
    "import json\n",
    "\n",
    "\n",
    "X_test = pd.read_csv(\"X_test.csv\")\n",
    "y_test = pd.read_csv(\"y_test.csv\")"
   ]
  },
  {
   "cell_type": "code",
   "execution_count": 12,
   "id": "91bbbc2d",
   "metadata": {},
   "outputs": [
    {
     "data": {
      "text/html": [
       "<div>\n",
       "<style scoped>\n",
       "    .dataframe tbody tr th:only-of-type {\n",
       "        vertical-align: middle;\n",
       "    }\n",
       "\n",
       "    .dataframe tbody tr th {\n",
       "        vertical-align: top;\n",
       "    }\n",
       "\n",
       "    .dataframe thead th {\n",
       "        text-align: right;\n",
       "    }\n",
       "</style>\n",
       "<table border=\"1\" class=\"dataframe\">\n",
       "  <thead>\n",
       "    <tr style=\"text-align: right;\">\n",
       "      <th></th>\n",
       "      <th>id</th>\n",
       "      <th>age</th>\n",
       "      <th>gender</th>\n",
       "      <th>height</th>\n",
       "      <th>weight</th>\n",
       "      <th>ap_hi</th>\n",
       "      <th>ap_lo</th>\n",
       "      <th>cholesterol</th>\n",
       "      <th>gluc</th>\n",
       "      <th>smoke</th>\n",
       "      <th>alco</th>\n",
       "      <th>active</th>\n",
       "    </tr>\n",
       "  </thead>\n",
       "  <tbody>\n",
       "    <tr>\n",
       "      <th>0</th>\n",
       "      <td>15505</td>\n",
       "      <td>15216</td>\n",
       "      <td>1</td>\n",
       "      <td>165</td>\n",
       "      <td>61.0</td>\n",
       "      <td>120</td>\n",
       "      <td>80</td>\n",
       "      <td>1</td>\n",
       "      <td>1</td>\n",
       "      <td>0</td>\n",
       "      <td>0</td>\n",
       "      <td>1</td>\n",
       "    </tr>\n",
       "    <tr>\n",
       "      <th>1</th>\n",
       "      <td>80282</td>\n",
       "      <td>19815</td>\n",
       "      <td>1</td>\n",
       "      <td>164</td>\n",
       "      <td>54.0</td>\n",
       "      <td>110</td>\n",
       "      <td>80</td>\n",
       "      <td>1</td>\n",
       "      <td>1</td>\n",
       "      <td>0</td>\n",
       "      <td>0</td>\n",
       "      <td>1</td>\n",
       "    </tr>\n",
       "    <tr>\n",
       "      <th>2</th>\n",
       "      <td>21224</td>\n",
       "      <td>20563</td>\n",
       "      <td>1</td>\n",
       "      <td>170</td>\n",
       "      <td>69.0</td>\n",
       "      <td>120</td>\n",
       "      <td>80</td>\n",
       "      <td>1</td>\n",
       "      <td>1</td>\n",
       "      <td>0</td>\n",
       "      <td>0</td>\n",
       "      <td>1</td>\n",
       "    </tr>\n",
       "    <tr>\n",
       "      <th>3</th>\n",
       "      <td>89571</td>\n",
       "      <td>16625</td>\n",
       "      <td>1</td>\n",
       "      <td>167</td>\n",
       "      <td>57.0</td>\n",
       "      <td>110</td>\n",
       "      <td>70</td>\n",
       "      <td>1</td>\n",
       "      <td>1</td>\n",
       "      <td>0</td>\n",
       "      <td>0</td>\n",
       "      <td>1</td>\n",
       "    </tr>\n",
       "    <tr>\n",
       "      <th>4</th>\n",
       "      <td>67392</td>\n",
       "      <td>14451</td>\n",
       "      <td>1</td>\n",
       "      <td>158</td>\n",
       "      <td>110.0</td>\n",
       "      <td>120</td>\n",
       "      <td>80</td>\n",
       "      <td>1</td>\n",
       "      <td>1</td>\n",
       "      <td>0</td>\n",
       "      <td>0</td>\n",
       "      <td>0</td>\n",
       "    </tr>\n",
       "  </tbody>\n",
       "</table>\n",
       "</div>"
      ],
      "text/plain": [
       "      id    age  gender  height  weight  ap_hi  ap_lo  cholesterol  gluc  \\\n",
       "0  15505  15216       1     165    61.0    120     80            1     1   \n",
       "1  80282  19815       1     164    54.0    110     80            1     1   \n",
       "2  21224  20563       1     170    69.0    120     80            1     1   \n",
       "3  89571  16625       1     167    57.0    110     70            1     1   \n",
       "4  67392  14451       1     158   110.0    120     80            1     1   \n",
       "\n",
       "   smoke  alco  active  \n",
       "0      0     0       1  \n",
       "1      0     0       1  \n",
       "2      0     0       1  \n",
       "3      0     0       1  \n",
       "4      0     0       0  "
      ]
     },
     "execution_count": 12,
     "metadata": {},
     "output_type": "execute_result"
    }
   ],
   "source": [
    "X_test.head()"
   ]
  },
  {
   "cell_type": "code",
   "execution_count": 2,
   "id": "5d842c47",
   "metadata": {},
   "outputs": [],
   "source": [
    "# формируем запрос\n",
    "def send_json(x):\n",
    "    \n",
    "    body = {}\n",
    "    \n",
    "    for column in x.index:\n",
    "        body[column] = x[column]\n",
    "    \n",
    "    myurl = 'http://127.0.0.1:5000/' + '/predict'\n",
    "    headers = {'content-type': 'application/json; charset=utf-8'}\n",
    "    response = requests.post(myurl, json=body, headers=headers)\n",
    "\n",
    "    return response.json()['predictions']"
   ]
  },
  {
   "cell_type": "markdown",
   "id": "4af6810a",
   "metadata": {},
   "source": [
    "Передаем запрос одиночный из наших данных и посмотрим на ответ"
   ]
  },
  {
   "cell_type": "code",
   "execution_count": 8,
   "id": "d12d801c",
   "metadata": {},
   "outputs": [
    {
     "data": {
      "text/plain": [
       "0.1798425122400956"
      ]
     },
     "execution_count": 8,
     "metadata": {},
     "output_type": "execute_result"
    }
   ],
   "source": [
    "response = send_json(X_test.iloc[3,:])\n",
    "response"
   ]
  },
  {
   "cell_type": "markdown",
   "id": "6d14d616",
   "metadata": {},
   "source": [
    "Сделаем N запросов и оценим время"
   ]
  },
  {
   "cell_type": "code",
   "execution_count": 13,
   "id": "9cd0d358",
   "metadata": {},
   "outputs": [],
   "source": [
    "N = 50"
   ]
  },
  {
   "cell_type": "code",
   "execution_count": 15,
   "id": "6b7619a7",
   "metadata": {},
   "outputs": [
    {
     "name": "stdout",
     "output_type": "stream",
     "text": [
      "CPU times: total: 0 ns\n",
      "Wall time: 464 ms\n"
     ]
    }
   ],
   "source": [
    "%%time\n",
    "predictions = X_test.iloc[:N].apply(lambda x: send_json(x), axis=1)"
   ]
  },
  {
   "cell_type": "markdown",
   "id": "8394a592",
   "metadata": {},
   "source": [
    "Посчитаем метрику"
   ]
  },
  {
   "cell_type": "code",
   "execution_count": 16,
   "id": "678bbb6f",
   "metadata": {},
   "outputs": [
    {
     "data": {
      "text/plain": [
       "45    0.331689\n",
       "46    0.565001\n",
       "47    0.409750\n",
       "48    0.682299\n",
       "49    0.609212\n",
       "dtype: float64"
      ]
     },
     "execution_count": 16,
     "metadata": {},
     "output_type": "execute_result"
    }
   ],
   "source": [
    "predictions.tail()"
   ]
  },
  {
   "cell_type": "code",
   "execution_count": 17,
   "id": "b84aa1fe",
   "metadata": {},
   "outputs": [
    {
     "data": {
      "text/html": [
       "<div>\n",
       "<style scoped>\n",
       "    .dataframe tbody tr th:only-of-type {\n",
       "        vertical-align: middle;\n",
       "    }\n",
       "\n",
       "    .dataframe tbody tr th {\n",
       "        vertical-align: top;\n",
       "    }\n",
       "\n",
       "    .dataframe thead th {\n",
       "        text-align: right;\n",
       "    }\n",
       "</style>\n",
       "<table border=\"1\" class=\"dataframe\">\n",
       "  <thead>\n",
       "    <tr style=\"text-align: right;\">\n",
       "      <th></th>\n",
       "      <th>cardio</th>\n",
       "    </tr>\n",
       "  </thead>\n",
       "  <tbody>\n",
       "    <tr>\n",
       "      <th>45</th>\n",
       "      <td>0</td>\n",
       "    </tr>\n",
       "    <tr>\n",
       "      <th>46</th>\n",
       "      <td>1</td>\n",
       "    </tr>\n",
       "    <tr>\n",
       "      <th>47</th>\n",
       "      <td>0</td>\n",
       "    </tr>\n",
       "    <tr>\n",
       "      <th>48</th>\n",
       "      <td>1</td>\n",
       "    </tr>\n",
       "    <tr>\n",
       "      <th>49</th>\n",
       "      <td>1</td>\n",
       "    </tr>\n",
       "  </tbody>\n",
       "</table>\n",
       "</div>"
      ],
      "text/plain": [
       "    cardio\n",
       "45       0\n",
       "46       1\n",
       "47       0\n",
       "48       1\n",
       "49       1"
      ]
     },
     "execution_count": 17,
     "metadata": {},
     "output_type": "execute_result"
    }
   ],
   "source": [
    "y_test.iloc[N-5:N]"
   ]
  },
  {
   "cell_type": "code",
   "execution_count": 18,
   "id": "8da8aab9",
   "metadata": {},
   "outputs": [
    {
     "name": "stdout",
     "output_type": "stream",
     "text": [
      "Best Threshold=0.43003597906935237, F-Score=0.807, Precision=0.742, Recall=0.885\n"
     ]
    }
   ],
   "source": [
    "import numpy as np\n",
    "\n",
    "precision, recall, thresholds = precision_recall_curve(y_test[:N], predictions)\n",
    "\n",
    "fscore = (2 * precision * recall) / (precision + recall)\n",
    "# locate the index of the largest f score\n",
    "ix = np.argmax(fscore)\n",
    "print(f'Best Threshold={thresholds[ix]}, F-Score={fscore[ix]:.3f}, Precision={precision[ix]:.3f}, Recall={recall[ix]:.3f}')"
   ]
  },
  {
   "cell_type": "code",
   "execution_count": 19,
   "id": "d1fc2920",
   "metadata": {},
   "outputs": [
    {
     "data": {
      "text/plain": [
       "0.8301282051282051"
      ]
     },
     "execution_count": 19,
     "metadata": {},
     "output_type": "execute_result"
    }
   ],
   "source": [
    "roc_auc_score(y_score=predictions.values, y_true=y_test.values[:N])"
   ]
  }
 ],
 "metadata": {
  "kernelspec": {
   "display_name": "Python 3 (ipykernel)",
   "language": "python",
   "name": "python3"
  },
  "language_info": {
   "codemirror_mode": {
    "name": "ipython",
    "version": 3
   },
   "file_extension": ".py",
   "mimetype": "text/x-python",
   "name": "python",
   "nbconvert_exporter": "python",
   "pygments_lexer": "ipython3",
   "version": "3.10.2"
  }
 },
 "nbformat": 4,
 "nbformat_minor": 5
}
